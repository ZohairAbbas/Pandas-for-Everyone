{
 "cells": [
  {
   "cell_type": "markdown",
   "id": "145ceae3",
   "metadata": {},
   "source": [
    "# Pandas"
   ]
  },
  {
   "cell_type": "markdown",
   "id": "6d8a9b71",
   "metadata": {},
   "source": [
    "Pandas is an important library for Data Science & Analytics. It contains data structures and data manipulation tools designed to make data cleaning and analysis fast and easy in Python. Pandas can work well with data from a wide variety of sources such as; Excel sheet, csv file, sql file or even a webpage\n",
    "\n",
    "Doucumentation: https://pandas.pydata.org/pandas-docs/version/0.25.3/"
   ]
  },
  {
   "cell_type": "markdown",
   "id": "a567a978",
   "metadata": {},
   "source": [
    "## Importing Pandas"
   ]
  },
  {
   "cell_type": "code",
   "execution_count": 1,
   "id": "cf89b2c8",
   "metadata": {},
   "outputs": [],
   "source": [
    "import pandas as pd"
   ]
  },
  {
   "cell_type": "markdown",
   "id": "d3ccaab9",
   "metadata": {},
   "source": [
    "## Pandas Series"
   ]
  },
  {
   "cell_type": "markdown",
   "id": "e0e09402",
   "metadata": {},
   "source": [
    "Pandas series are one-dimensional labeled array that are capable of holding of data of any type"
   ]
  },
  {
   "cell_type": "code",
   "execution_count": 62,
   "id": "ca25798a",
   "metadata": {},
   "outputs": [
    {
     "name": "stdout",
     "output_type": "stream",
     "text": [
      "0    a\n",
      "1    b\n",
      "2    c\n",
      "3    2\n",
      "4    e\n",
      "dtype: object\n"
     ]
    }
   ],
   "source": [
    "#creating panda series from list\n",
    "\n",
    "lst = ['a', 'b', 'c', 2, 'e']\n",
    "ser_1 = pd.Series(lst)\n",
    "\n",
    "print (ser_1)"
   ]
  },
  {
   "cell_type": "code",
   "execution_count": 4,
   "id": "de7a1a1e",
   "metadata": {},
   "outputs": [
    {
     "data": {
      "text/plain": [
       "pandas.core.series.Series"
      ]
     },
     "execution_count": 4,
     "metadata": {},
     "output_type": "execute_result"
    }
   ],
   "source": [
    "type(ser_1)"
   ]
  },
  {
   "cell_type": "code",
   "execution_count": 63,
   "id": "a187de55",
   "metadata": {},
   "outputs": [
    {
     "name": "stdout",
     "output_type": "stream",
     "text": [
      "0    10\n",
      "1    20\n",
      "2    30\n",
      "3    40\n",
      "4    50\n",
      "dtype: int32\n"
     ]
    }
   ],
   "source": [
    "#creating pandas series from array\n",
    "\n",
    "import numpy as np\n",
    "arr = np.array([10, 20, 30, 40, 50])\n",
    "ser_2 = pd.Series(arr)\n",
    "\n",
    "print(ser_2)"
   ]
  },
  {
   "cell_type": "code",
   "execution_count": 64,
   "id": "1c3385f6",
   "metadata": {},
   "outputs": [
    {
     "name": "stdout",
     "output_type": "stream",
     "text": [
      "sarah    10\n",
      "bob      20\n",
      "alex     30\n",
      "den      40\n",
      "nancy    50\n",
      "dtype: int32\n"
     ]
    }
   ],
   "source": [
    "#create series with specific indexing\n",
    "\n",
    "ser_3 = pd.Series(arr, index = ['sarah', 'bob', 'alex', 'den', 'nancy'])\n",
    "\n",
    "print (ser_3)"
   ]
  },
  {
   "cell_type": "code",
   "execution_count": 8,
   "id": "cba20419",
   "metadata": {},
   "outputs": [
    {
     "name": "stdout",
     "output_type": "stream",
     "text": [
      "[10 20 30 40 50]\n",
      "Index(['sarah', 'bob', 'alex', 'den', 'nancy'], dtype='object')\n"
     ]
    }
   ],
   "source": [
    "print(ser_3.values)\n",
    "print(ser_3.index)"
   ]
  },
  {
   "cell_type": "code",
   "execution_count": 10,
   "id": "7cab5721",
   "metadata": {},
   "outputs": [
    {
     "name": "stdout",
     "output_type": "stream",
     "text": [
      " Size: 5 \n",
      " Shape: (5,) \n",
      " Dimension: 1 \n",
      " Data type: int32\n"
     ]
    }
   ],
   "source": [
    "# Attributes\n",
    "\n",
    "print(' Size:',ser_3.size,'\\n',\n",
    "'Shape:',ser_3.shape,'\\n',\n",
    "'Dimension:',ser_3.ndim,'\\n',\n",
    "'Data type:',ser_3.dtype)"
   ]
  },
  {
   "cell_type": "code",
   "execution_count": 16,
   "id": "5f4a1bae",
   "metadata": {},
   "outputs": [
    {
     "name": "stdout",
     "output_type": "stream",
     "text": [
      "sarah    10\n",
      "bob      20\n",
      "alex     30\n",
      "dtype: int32\n"
     ]
    }
   ],
   "source": [
    "# slicing by implicit integer index\n",
    "\n",
    "print(ser_3[0:3])"
   ]
  },
  {
   "cell_type": "code",
   "execution_count": 17,
   "id": "2ea278f4",
   "metadata": {},
   "outputs": [
    {
     "data": {
      "text/plain": [
       "sarah    10\n",
       "bob      20\n",
       "alex     30\n",
       "dtype: int32"
      ]
     },
     "execution_count": 17,
     "metadata": {},
     "output_type": "execute_result"
    }
   ],
   "source": [
    "# slicing by explicit index\n",
    "\n",
    "ser_3['sarah':'alex']"
   ]
  },
  {
   "cell_type": "markdown",
   "id": "a3eed887",
   "metadata": {},
   "source": [
    "Notice that when slicing with an explicit index (i.e., ser_3['sarah':'alex']), the final index is included in the slice, while when slicing with an implicit index (i.e., ser_3[0:3]), the final index is excluded from the slice."
   ]
  },
  {
   "cell_type": "markdown",
   "id": "becb9782",
   "metadata": {},
   "source": [
    "## Creating a Series"
   ]
  },
  {
   "cell_type": "code",
   "execution_count": 66,
   "id": "3589797e",
   "metadata": {},
   "outputs": [
    {
     "data": {
      "text/plain": [
       "California    38332521\n",
       "Texas         26448193\n",
       "New York      19651127\n",
       "Florida       19552860\n",
       "Illinois      12882135\n",
       "dtype: int64"
      ]
     },
     "execution_count": 66,
     "metadata": {},
     "output_type": "execute_result"
    }
   ],
   "source": [
    "population_dict = {'California': 38332521,\n",
    "                   'Texas': 26448193,\n",
    "                   'New York': 19651127,\n",
    "                   'Florida': 19552860,\n",
    "                   'Illinois': 12882135}\n",
    "population = pd.Series(population_dict)\n",
    "\n",
    "population"
   ]
  },
  {
   "cell_type": "code",
   "execution_count": 19,
   "id": "95c8fb72",
   "metadata": {},
   "outputs": [
    {
     "data": {
      "text/plain": [
       "California    38332521\n",
       "Texas         26448193\n",
       "New York      19651127\n",
       "Florida       19552860\n",
       "dtype: int64"
      ]
     },
     "execution_count": 19,
     "metadata": {},
     "output_type": "execute_result"
    }
   ],
   "source": [
    "population['California':'Florida']"
   ]
  },
  {
   "cell_type": "markdown",
   "id": "91a732ae",
   "metadata": {},
   "source": [
    "## Pandas Dataframe"
   ]
  },
  {
   "cell_type": "markdown",
   "id": "d328e062",
   "metadata": {},
   "source": [
    "Pandas DataFrame is a two-dimensional labeled data structure."
   ]
  },
  {
   "cell_type": "code",
   "execution_count": 67,
   "id": "30f28a6b",
   "metadata": {},
   "outputs": [
    {
     "data": {
      "text/plain": [
       "California    38332521\n",
       "Texas         26448193\n",
       "New York      19651127\n",
       "Florida       19552860\n",
       "Illinois      12882135\n",
       "dtype: int64"
      ]
     },
     "execution_count": 67,
     "metadata": {},
     "output_type": "execute_result"
    }
   ],
   "source": [
    "population"
   ]
  },
  {
   "cell_type": "code",
   "execution_count": 68,
   "id": "e0753225",
   "metadata": {},
   "outputs": [
    {
     "data": {
      "text/html": [
       "<div>\n",
       "<style scoped>\n",
       "    .dataframe tbody tr th:only-of-type {\n",
       "        vertical-align: middle;\n",
       "    }\n",
       "\n",
       "    .dataframe tbody tr th {\n",
       "        vertical-align: top;\n",
       "    }\n",
       "\n",
       "    .dataframe thead th {\n",
       "        text-align: right;\n",
       "    }\n",
       "</style>\n",
       "<table border=\"1\" class=\"dataframe\">\n",
       "  <thead>\n",
       "    <tr style=\"text-align: right;\">\n",
       "      <th></th>\n",
       "      <th>population</th>\n",
       "    </tr>\n",
       "  </thead>\n",
       "  <tbody>\n",
       "    <tr>\n",
       "      <th>California</th>\n",
       "      <td>38332521</td>\n",
       "    </tr>\n",
       "    <tr>\n",
       "      <th>Texas</th>\n",
       "      <td>26448193</td>\n",
       "    </tr>\n",
       "    <tr>\n",
       "      <th>New York</th>\n",
       "      <td>19651127</td>\n",
       "    </tr>\n",
       "    <tr>\n",
       "      <th>Florida</th>\n",
       "      <td>19552860</td>\n",
       "    </tr>\n",
       "    <tr>\n",
       "      <th>Illinois</th>\n",
       "      <td>12882135</td>\n",
       "    </tr>\n",
       "  </tbody>\n",
       "</table>\n",
       "</div>"
      ],
      "text/plain": [
       "            population\n",
       "California    38332521\n",
       "Texas         26448193\n",
       "New York      19651127\n",
       "Florida       19552860\n",
       "Illinois      12882135"
      ]
     },
     "execution_count": 68,
     "metadata": {},
     "output_type": "execute_result"
    }
   ],
   "source": [
    "states = pd.DataFrame({'population': population})\n",
    "states"
   ]
  },
  {
   "cell_type": "code",
   "execution_count": 74,
   "id": "1f66caed",
   "metadata": {},
   "outputs": [
    {
     "data": {
      "text/html": [
       "<div>\n",
       "<style scoped>\n",
       "    .dataframe tbody tr th:only-of-type {\n",
       "        vertical-align: middle;\n",
       "    }\n",
       "\n",
       "    .dataframe tbody tr th {\n",
       "        vertical-align: top;\n",
       "    }\n",
       "\n",
       "    .dataframe thead th {\n",
       "        text-align: right;\n",
       "    }\n",
       "</style>\n",
       "<table border=\"1\" class=\"dataframe\">\n",
       "  <thead>\n",
       "    <tr style=\"text-align: right;\">\n",
       "      <th></th>\n",
       "      <th>Name</th>\n",
       "      <th>Age</th>\n",
       "      <th>Type</th>\n",
       "    </tr>\n",
       "  </thead>\n",
       "  <tbody>\n",
       "    <tr>\n",
       "      <th>0</th>\n",
       "      <td>Jack</td>\n",
       "      <td>2</td>\n",
       "      <td>Parrot</td>\n",
       "    </tr>\n",
       "    <tr>\n",
       "      <th>1</th>\n",
       "      <td>Lucy</td>\n",
       "      <td>3</td>\n",
       "      <td>Cat</td>\n",
       "    </tr>\n",
       "    <tr>\n",
       "      <th>2</th>\n",
       "      <td>Cinco</td>\n",
       "      <td>8</td>\n",
       "      <td>Rabbot</td>\n",
       "    </tr>\n",
       "  </tbody>\n",
       "</table>\n",
       "</div>"
      ],
      "text/plain": [
       "    Name  Age    Type\n",
       "0   Jack    2  Parrot\n",
       "1   Lucy    3     Cat\n",
       "2  Cinco    8  Rabbot"
      ]
     },
     "execution_count": 74,
     "metadata": {},
     "output_type": "execute_result"
    }
   ],
   "source": [
    "pet_info = [['Jack',2,\"Parrot\"],[\"Lucy\",3,\"Cat\"], [\"Cinco\",8,\"Rabbot\"]]\n",
    "pet_df = pd.DataFrame(pet_info, columns=[\"Name\",\"Age\",\"Type\"])\n",
    "\n",
    "pet_df"
   ]
  },
  {
   "cell_type": "code",
   "execution_count": 22,
   "id": "f80c48a1",
   "metadata": {},
   "outputs": [
    {
     "data": {
      "text/html": [
       "<div>\n",
       "<style scoped>\n",
       "    .dataframe tbody tr th:only-of-type {\n",
       "        vertical-align: middle;\n",
       "    }\n",
       "\n",
       "    .dataframe tbody tr th {\n",
       "        vertical-align: top;\n",
       "    }\n",
       "\n",
       "    .dataframe thead th {\n",
       "        text-align: right;\n",
       "    }\n",
       "</style>\n",
       "<table border=\"1\" class=\"dataframe\">\n",
       "  <thead>\n",
       "    <tr style=\"text-align: right;\">\n",
       "      <th></th>\n",
       "      <th>Name</th>\n",
       "      <th>Age</th>\n",
       "      <th>Type</th>\n",
       "    </tr>\n",
       "  </thead>\n",
       "  <tbody>\n",
       "    <tr>\n",
       "      <th>0</th>\n",
       "      <td>Blain</td>\n",
       "      <td>10</td>\n",
       "      <td>Dog</td>\n",
       "    </tr>\n",
       "    <tr>\n",
       "      <th>1</th>\n",
       "      <td>Lucy</td>\n",
       "      <td>4</td>\n",
       "      <td>Cat</td>\n",
       "    </tr>\n",
       "    <tr>\n",
       "      <th>2</th>\n",
       "      <td>Cinco</td>\n",
       "      <td>8</td>\n",
       "      <td>Rabbit</td>\n",
       "    </tr>\n",
       "  </tbody>\n",
       "</table>\n",
       "</div>"
      ],
      "text/plain": [
       "    Name  Age    Type\n",
       "0  Blain   10     Dog\n",
       "1   Lucy    4     Cat\n",
       "2  Cinco    8  Rabbit"
      ]
     },
     "execution_count": 22,
     "metadata": {},
     "output_type": "execute_result"
    }
   ],
   "source": [
    "# Datafram using Python 2d list\n",
    "\n",
    "pet_info = [['Blain', 10, 'Dog'], ['Lucy', 4 , 'Cat'], ['Cinco', 8, 'Rabbit']]\n",
    "pet_df = pd.DataFrame(pet_info, columns = ['Name', 'Age', 'Type'])\n",
    "\n",
    "pet_df"
   ]
  },
  {
   "cell_type": "code",
   "execution_count": 75,
   "id": "487f65c4",
   "metadata": {},
   "outputs": [
    {
     "data": {
      "text/html": [
       "<div>\n",
       "<style scoped>\n",
       "    .dataframe tbody tr th:only-of-type {\n",
       "        vertical-align: middle;\n",
       "    }\n",
       "\n",
       "    .dataframe tbody tr th {\n",
       "        vertical-align: top;\n",
       "    }\n",
       "\n",
       "    .dataframe thead th {\n",
       "        text-align: right;\n",
       "    }\n",
       "</style>\n",
       "<table border=\"1\" class=\"dataframe\">\n",
       "  <thead>\n",
       "    <tr style=\"text-align: right;\">\n",
       "      <th></th>\n",
       "      <th>Cities</th>\n",
       "      <th>Population</th>\n",
       "      <th>Area</th>\n",
       "    </tr>\n",
       "  </thead>\n",
       "  <tbody>\n",
       "    <tr>\n",
       "      <th>0</th>\n",
       "      <td>Karachi</td>\n",
       "      <td>12124124314</td>\n",
       "      <td>2131241241</td>\n",
       "    </tr>\n",
       "    <tr>\n",
       "      <th>1</th>\n",
       "      <td>Islamabad</td>\n",
       "      <td>232143412</td>\n",
       "      <td>4532523</td>\n",
       "    </tr>\n",
       "    <tr>\n",
       "      <th>2</th>\n",
       "      <td>Lahore</td>\n",
       "      <td>1321431241</td>\n",
       "      <td>214412312</td>\n",
       "    </tr>\n",
       "  </tbody>\n",
       "</table>\n",
       "</div>"
      ],
      "text/plain": [
       "      Cities   Population        Area\n",
       "0    Karachi  12124124314  2131241241\n",
       "1  Islamabad    232143412     4532523\n",
       "2     Lahore   1321431241   214412312"
      ]
     },
     "execution_count": 75,
     "metadata": {},
     "output_type": "execute_result"
    }
   ],
   "source": [
    "cities_info = {\"Cities\":[\"Karachi\",\"Islamabad\",\"Lahore\"],\"Population\":[12124124314,232143412,1321431241],\"Area\":[2131241241,4532523,214412312]}\n",
    "cities_df = pd.DataFrame(cities_info)\n",
    "\n",
    "cities_df"
   ]
  },
  {
   "cell_type": "code",
   "execution_count": 76,
   "id": "30e40887",
   "metadata": {},
   "outputs": [
    {
     "data": {
      "text/plain": [
       "0      Karachi\n",
       "1    Islamabad\n",
       "2       Lahore\n",
       "Name: Cities, dtype: object"
      ]
     },
     "execution_count": 76,
     "metadata": {},
     "output_type": "execute_result"
    }
   ],
   "source": [
    "cities_df[\"Cities\"]"
   ]
  },
  {
   "cell_type": "markdown",
   "id": "88b9ce2f",
   "metadata": {},
   "source": [
    "## Dataframe Functions"
   ]
  },
  {
   "cell_type": "markdown",
   "id": "8e9fb09b",
   "metadata": {},
   "source": [
    "There are some functions and attributes that allow us to observe basic information about the data stored in a DataFrame object:\n",
    "\n",
    "DataFrame.head() -> returns the content of the first 5 rows, by default\n",
    "\n",
    "DataFrame.tail() -> returns the content of the last 5 rows, by default\n",
    "\n",
    "DataFrame.shape -> returns a tuple of the form (num_rows, num_columns)\n",
    "\n",
    "DataFrame.columns -> returns the name of the columns\n",
    "\n",
    "DataFrame.index -> returns the index of the rows"
   ]
  },
  {
   "cell_type": "code",
   "execution_count": 77,
   "id": "af329b8d",
   "metadata": {},
   "outputs": [],
   "source": [
    "population_dict = {'States':['California','Texas','New York','Florida','Illinois','Chicago','Utah'],\"Population\":[38332521,26448193,19651127,19552860,12882135,235821531,2148149] }\n",
    "population_df = pd.DataFrame(population_dict)"
   ]
  },
  {
   "cell_type": "code",
   "execution_count": 78,
   "id": "c0b8b9d6",
   "metadata": {},
   "outputs": [
    {
     "data": {
      "text/html": [
       "<div>\n",
       "<style scoped>\n",
       "    .dataframe tbody tr th:only-of-type {\n",
       "        vertical-align: middle;\n",
       "    }\n",
       "\n",
       "    .dataframe tbody tr th {\n",
       "        vertical-align: top;\n",
       "    }\n",
       "\n",
       "    .dataframe thead th {\n",
       "        text-align: right;\n",
       "    }\n",
       "</style>\n",
       "<table border=\"1\" class=\"dataframe\">\n",
       "  <thead>\n",
       "    <tr style=\"text-align: right;\">\n",
       "      <th></th>\n",
       "      <th>States</th>\n",
       "      <th>Population</th>\n",
       "    </tr>\n",
       "  </thead>\n",
       "  <tbody>\n",
       "    <tr>\n",
       "      <th>0</th>\n",
       "      <td>California</td>\n",
       "      <td>38332521</td>\n",
       "    </tr>\n",
       "    <tr>\n",
       "      <th>1</th>\n",
       "      <td>Texas</td>\n",
       "      <td>26448193</td>\n",
       "    </tr>\n",
       "    <tr>\n",
       "      <th>2</th>\n",
       "      <td>New York</td>\n",
       "      <td>19651127</td>\n",
       "    </tr>\n",
       "    <tr>\n",
       "      <th>3</th>\n",
       "      <td>Florida</td>\n",
       "      <td>19552860</td>\n",
       "    </tr>\n",
       "    <tr>\n",
       "      <th>4</th>\n",
       "      <td>Illinois</td>\n",
       "      <td>12882135</td>\n",
       "    </tr>\n",
       "    <tr>\n",
       "      <th>5</th>\n",
       "      <td>Chicago</td>\n",
       "      <td>235821531</td>\n",
       "    </tr>\n",
       "    <tr>\n",
       "      <th>6</th>\n",
       "      <td>Utah</td>\n",
       "      <td>2148149</td>\n",
       "    </tr>\n",
       "  </tbody>\n",
       "</table>\n",
       "</div>"
      ],
      "text/plain": [
       "       States  Population\n",
       "0  California    38332521\n",
       "1       Texas    26448193\n",
       "2    New York    19651127\n",
       "3     Florida    19552860\n",
       "4    Illinois    12882135\n",
       "5     Chicago   235821531\n",
       "6        Utah     2148149"
      ]
     },
     "execution_count": 78,
     "metadata": {},
     "output_type": "execute_result"
    }
   ],
   "source": [
    "population_df"
   ]
  },
  {
   "cell_type": "code",
   "execution_count": 81,
   "id": "d7e523b8",
   "metadata": {},
   "outputs": [
    {
     "data": {
      "text/html": [
       "<div>\n",
       "<style scoped>\n",
       "    .dataframe tbody tr th:only-of-type {\n",
       "        vertical-align: middle;\n",
       "    }\n",
       "\n",
       "    .dataframe tbody tr th {\n",
       "        vertical-align: top;\n",
       "    }\n",
       "\n",
       "    .dataframe thead th {\n",
       "        text-align: right;\n",
       "    }\n",
       "</style>\n",
       "<table border=\"1\" class=\"dataframe\">\n",
       "  <thead>\n",
       "    <tr style=\"text-align: right;\">\n",
       "      <th></th>\n",
       "      <th>States</th>\n",
       "      <th>Population</th>\n",
       "    </tr>\n",
       "  </thead>\n",
       "  <tbody>\n",
       "    <tr>\n",
       "      <th>0</th>\n",
       "      <td>California</td>\n",
       "      <td>38332521</td>\n",
       "    </tr>\n",
       "    <tr>\n",
       "      <th>1</th>\n",
       "      <td>Texas</td>\n",
       "      <td>26448193</td>\n",
       "    </tr>\n",
       "    <tr>\n",
       "      <th>2</th>\n",
       "      <td>New York</td>\n",
       "      <td>19651127</td>\n",
       "    </tr>\n",
       "    <tr>\n",
       "      <th>3</th>\n",
       "      <td>Florida</td>\n",
       "      <td>19552860</td>\n",
       "    </tr>\n",
       "    <tr>\n",
       "      <th>4</th>\n",
       "      <td>Illinois</td>\n",
       "      <td>12882135</td>\n",
       "    </tr>\n",
       "  </tbody>\n",
       "</table>\n",
       "</div>"
      ],
      "text/plain": [
       "       States  Population\n",
       "0  California    38332521\n",
       "1       Texas    26448193\n",
       "2    New York    19651127\n",
       "3     Florida    19552860\n",
       "4    Illinois    12882135"
      ]
     },
     "execution_count": 81,
     "metadata": {},
     "output_type": "execute_result"
    }
   ],
   "source": [
    "population_df.head()"
   ]
  },
  {
   "cell_type": "code",
   "execution_count": 37,
   "id": "5606ed31",
   "metadata": {},
   "outputs": [
    {
     "data": {
      "text/html": [
       "<div>\n",
       "<style scoped>\n",
       "    .dataframe tbody tr th:only-of-type {\n",
       "        vertical-align: middle;\n",
       "    }\n",
       "\n",
       "    .dataframe tbody tr th {\n",
       "        vertical-align: top;\n",
       "    }\n",
       "\n",
       "    .dataframe thead th {\n",
       "        text-align: right;\n",
       "    }\n",
       "</style>\n",
       "<table border=\"1\" class=\"dataframe\">\n",
       "  <thead>\n",
       "    <tr style=\"text-align: right;\">\n",
       "      <th></th>\n",
       "      <th>States</th>\n",
       "      <th>Population</th>\n",
       "    </tr>\n",
       "  </thead>\n",
       "  <tbody>\n",
       "    <tr>\n",
       "      <th>2</th>\n",
       "      <td>New York</td>\n",
       "      <td>19651127</td>\n",
       "    </tr>\n",
       "    <tr>\n",
       "      <th>3</th>\n",
       "      <td>Florida</td>\n",
       "      <td>19552860</td>\n",
       "    </tr>\n",
       "    <tr>\n",
       "      <th>4</th>\n",
       "      <td>Illinois</td>\n",
       "      <td>12882135</td>\n",
       "    </tr>\n",
       "    <tr>\n",
       "      <th>5</th>\n",
       "      <td>Chicago</td>\n",
       "      <td>235821531</td>\n",
       "    </tr>\n",
       "    <tr>\n",
       "      <th>6</th>\n",
       "      <td>Utah</td>\n",
       "      <td>2148149</td>\n",
       "    </tr>\n",
       "  </tbody>\n",
       "</table>\n",
       "</div>"
      ],
      "text/plain": [
       "     States  Population\n",
       "2  New York    19651127\n",
       "3   Florida    19552860\n",
       "4  Illinois    12882135\n",
       "5   Chicago   235821531\n",
       "6      Utah     2148149"
      ]
     },
     "execution_count": 37,
     "metadata": {},
     "output_type": "execute_result"
    }
   ],
   "source": [
    "population_df.tail()"
   ]
  },
  {
   "cell_type": "code",
   "execution_count": 38,
   "id": "018d0f23",
   "metadata": {},
   "outputs": [
    {
     "data": {
      "text/plain": [
       "(7, 2)"
      ]
     },
     "execution_count": 38,
     "metadata": {},
     "output_type": "execute_result"
    }
   ],
   "source": [
    "population_df.shape"
   ]
  },
  {
   "cell_type": "code",
   "execution_count": 39,
   "id": "4b0da615",
   "metadata": {},
   "outputs": [
    {
     "data": {
      "text/plain": [
       "RangeIndex(start=0, stop=7, step=1)"
      ]
     },
     "execution_count": 39,
     "metadata": {},
     "output_type": "execute_result"
    }
   ],
   "source": [
    "population_df.index"
   ]
  },
  {
   "cell_type": "code",
   "execution_count": 40,
   "id": "b07e84f8",
   "metadata": {},
   "outputs": [
    {
     "data": {
      "text/plain": [
       "Index(['States', 'Population'], dtype='object')"
      ]
     },
     "execution_count": 40,
     "metadata": {},
     "output_type": "execute_result"
    }
   ],
   "source": [
    "population_df.columns"
   ]
  },
  {
   "cell_type": "markdown",
   "id": "cd846091",
   "metadata": {},
   "source": [
    "## Adding a new column"
   ]
  },
  {
   "cell_type": "code",
   "execution_count": 42,
   "id": "79e4a570",
   "metadata": {},
   "outputs": [
    {
     "data": {
      "text/html": [
       "<div>\n",
       "<style scoped>\n",
       "    .dataframe tbody tr th:only-of-type {\n",
       "        vertical-align: middle;\n",
       "    }\n",
       "\n",
       "    .dataframe tbody tr th {\n",
       "        vertical-align: top;\n",
       "    }\n",
       "\n",
       "    .dataframe thead th {\n",
       "        text-align: right;\n",
       "    }\n",
       "</style>\n",
       "<table border=\"1\" class=\"dataframe\">\n",
       "  <thead>\n",
       "    <tr style=\"text-align: right;\">\n",
       "      <th></th>\n",
       "      <th>Cities</th>\n",
       "      <th>Population</th>\n",
       "      <th>Area</th>\n",
       "    </tr>\n",
       "  </thead>\n",
       "  <tbody>\n",
       "    <tr>\n",
       "      <th>0</th>\n",
       "      <td>Karachi</td>\n",
       "      <td>12124124314</td>\n",
       "      <td>2131241241</td>\n",
       "    </tr>\n",
       "    <tr>\n",
       "      <th>1</th>\n",
       "      <td>Islamabad</td>\n",
       "      <td>232143412</td>\n",
       "      <td>4532523</td>\n",
       "    </tr>\n",
       "    <tr>\n",
       "      <th>2</th>\n",
       "      <td>Lahore</td>\n",
       "      <td>1321431241</td>\n",
       "      <td>214412312</td>\n",
       "    </tr>\n",
       "  </tbody>\n",
       "</table>\n",
       "</div>"
      ],
      "text/plain": [
       "      Cities   Population        Area\n",
       "0    Karachi  12124124314  2131241241\n",
       "1  Islamabad    232143412     4532523\n",
       "2     Lahore   1321431241   214412312"
      ]
     },
     "execution_count": 42,
     "metadata": {},
     "output_type": "execute_result"
    }
   ],
   "source": [
    "cities_df"
   ]
  },
  {
   "cell_type": "code",
   "execution_count": 85,
   "id": "b3499a3a",
   "metadata": {},
   "outputs": [],
   "source": [
    "cities_df['density'] = cities_df['Population']/cities_df['Area']"
   ]
  },
  {
   "cell_type": "code",
   "execution_count": 86,
   "id": "6851627b",
   "metadata": {},
   "outputs": [
    {
     "data": {
      "text/html": [
       "<div>\n",
       "<style scoped>\n",
       "    .dataframe tbody tr th:only-of-type {\n",
       "        vertical-align: middle;\n",
       "    }\n",
       "\n",
       "    .dataframe tbody tr th {\n",
       "        vertical-align: top;\n",
       "    }\n",
       "\n",
       "    .dataframe thead th {\n",
       "        text-align: right;\n",
       "    }\n",
       "</style>\n",
       "<table border=\"1\" class=\"dataframe\">\n",
       "  <thead>\n",
       "    <tr style=\"text-align: right;\">\n",
       "      <th></th>\n",
       "      <th>Cities</th>\n",
       "      <th>Population</th>\n",
       "      <th>Area</th>\n",
       "      <th>density</th>\n",
       "    </tr>\n",
       "  </thead>\n",
       "  <tbody>\n",
       "    <tr>\n",
       "      <th>0</th>\n",
       "      <td>Karachi</td>\n",
       "      <td>12124124314</td>\n",
       "      <td>2131241241</td>\n",
       "      <td>5.688762</td>\n",
       "    </tr>\n",
       "    <tr>\n",
       "      <th>1</th>\n",
       "      <td>Islamabad</td>\n",
       "      <td>232143412</td>\n",
       "      <td>4532523</td>\n",
       "      <td>51.217261</td>\n",
       "    </tr>\n",
       "    <tr>\n",
       "      <th>2</th>\n",
       "      <td>Lahore</td>\n",
       "      <td>1321431241</td>\n",
       "      <td>214412312</td>\n",
       "      <td>6.163038</td>\n",
       "    </tr>\n",
       "  </tbody>\n",
       "</table>\n",
       "</div>"
      ],
      "text/plain": [
       "      Cities   Population        Area    density\n",
       "0    Karachi  12124124314  2131241241   5.688762\n",
       "1  Islamabad    232143412     4532523  51.217261\n",
       "2     Lahore   1321431241   214412312   6.163038"
      ]
     },
     "execution_count": 86,
     "metadata": {},
     "output_type": "execute_result"
    }
   ],
   "source": [
    "cities_df"
   ]
  },
  {
   "cell_type": "markdown",
   "id": "7be7f99f",
   "metadata": {},
   "source": [
    "## Other Functions"
   ]
  },
  {
   "cell_type": "code",
   "execution_count": 46,
   "id": "62ae5d02",
   "metadata": {},
   "outputs": [
    {
     "name": "stdout",
     "output_type": "stream",
     "text": [
      "<class 'pandas.core.frame.DataFrame'>\n",
      "RangeIndex: 3 entries, 0 to 2\n",
      "Data columns (total 4 columns):\n",
      " #   Column      Non-Null Count  Dtype  \n",
      "---  ------      --------------  -----  \n",
      " 0   Cities      3 non-null      object \n",
      " 1   Population  3 non-null      int64  \n",
      " 2   Area        3 non-null      int64  \n",
      " 3   density     3 non-null      float64\n",
      "dtypes: float64(1), int64(2), object(1)\n",
      "memory usage: 224.0+ bytes\n"
     ]
    }
   ],
   "source": [
    "cities_df.info()"
   ]
  },
  {
   "cell_type": "code",
   "execution_count": 47,
   "id": "603718bc",
   "metadata": {},
   "outputs": [
    {
     "data": {
      "text/html": [
       "<div>\n",
       "<style scoped>\n",
       "    .dataframe tbody tr th:only-of-type {\n",
       "        vertical-align: middle;\n",
       "    }\n",
       "\n",
       "    .dataframe tbody tr th {\n",
       "        vertical-align: top;\n",
       "    }\n",
       "\n",
       "    .dataframe thead th {\n",
       "        text-align: right;\n",
       "    }\n",
       "</style>\n",
       "<table border=\"1\" class=\"dataframe\">\n",
       "  <thead>\n",
       "    <tr style=\"text-align: right;\">\n",
       "      <th></th>\n",
       "      <th>Population</th>\n",
       "      <th>Area</th>\n",
       "      <th>density</th>\n",
       "    </tr>\n",
       "  </thead>\n",
       "  <tbody>\n",
       "    <tr>\n",
       "      <th>count</th>\n",
       "      <td>3.000000e+00</td>\n",
       "      <td>3.000000e+00</td>\n",
       "      <td>3.000000</td>\n",
       "    </tr>\n",
       "    <tr>\n",
       "      <th>mean</th>\n",
       "      <td>4.559233e+09</td>\n",
       "      <td>7.833954e+08</td>\n",
       "      <td>21.023020</td>\n",
       "    </tr>\n",
       "    <tr>\n",
       "      <th>std</th>\n",
       "      <td>6.573988e+09</td>\n",
       "      <td>1.171976e+09</td>\n",
       "      <td>26.150054</td>\n",
       "    </tr>\n",
       "    <tr>\n",
       "      <th>min</th>\n",
       "      <td>2.321434e+08</td>\n",
       "      <td>4.532523e+06</td>\n",
       "      <td>5.688762</td>\n",
       "    </tr>\n",
       "    <tr>\n",
       "      <th>25%</th>\n",
       "      <td>7.767873e+08</td>\n",
       "      <td>1.094724e+08</td>\n",
       "      <td>5.925900</td>\n",
       "    </tr>\n",
       "    <tr>\n",
       "      <th>50%</th>\n",
       "      <td>1.321431e+09</td>\n",
       "      <td>2.144123e+08</td>\n",
       "      <td>6.163038</td>\n",
       "    </tr>\n",
       "    <tr>\n",
       "      <th>75%</th>\n",
       "      <td>6.722778e+09</td>\n",
       "      <td>1.172827e+09</td>\n",
       "      <td>28.690149</td>\n",
       "    </tr>\n",
       "    <tr>\n",
       "      <th>max</th>\n",
       "      <td>1.212412e+10</td>\n",
       "      <td>2.131241e+09</td>\n",
       "      <td>51.217261</td>\n",
       "    </tr>\n",
       "  </tbody>\n",
       "</table>\n",
       "</div>"
      ],
      "text/plain": [
       "         Population          Area    density\n",
       "count  3.000000e+00  3.000000e+00   3.000000\n",
       "mean   4.559233e+09  7.833954e+08  21.023020\n",
       "std    6.573988e+09  1.171976e+09  26.150054\n",
       "min    2.321434e+08  4.532523e+06   5.688762\n",
       "25%    7.767873e+08  1.094724e+08   5.925900\n",
       "50%    1.321431e+09  2.144123e+08   6.163038\n",
       "75%    6.722778e+09  1.172827e+09  28.690149\n",
       "max    1.212412e+10  2.131241e+09  51.217261"
      ]
     },
     "execution_count": 47,
     "metadata": {},
     "output_type": "execute_result"
    }
   ],
   "source": [
    "cities_df.describe()"
   ]
  },
  {
   "cell_type": "code",
   "execution_count": 93,
   "id": "be6787fe",
   "metadata": {},
   "outputs": [
    {
     "data": {
      "text/html": [
       "<div>\n",
       "<style scoped>\n",
       "    .dataframe tbody tr th:only-of-type {\n",
       "        vertical-align: middle;\n",
       "    }\n",
       "\n",
       "    .dataframe tbody tr th {\n",
       "        vertical-align: top;\n",
       "    }\n",
       "\n",
       "    .dataframe thead th {\n",
       "        text-align: right;\n",
       "    }\n",
       "</style>\n",
       "<table border=\"1\" class=\"dataframe\">\n",
       "  <thead>\n",
       "    <tr style=\"text-align: right;\">\n",
       "      <th></th>\n",
       "      <th>Cities</th>\n",
       "      <th>Population</th>\n",
       "      <th>Area</th>\n",
       "      <th>density</th>\n",
       "      <th>new</th>\n",
       "    </tr>\n",
       "  </thead>\n",
       "  <tbody>\n",
       "    <tr>\n",
       "      <th>0</th>\n",
       "      <td>False</td>\n",
       "      <td>False</td>\n",
       "      <td>False</td>\n",
       "      <td>False</td>\n",
       "      <td>False</td>\n",
       "    </tr>\n",
       "    <tr>\n",
       "      <th>1</th>\n",
       "      <td>False</td>\n",
       "      <td>False</td>\n",
       "      <td>False</td>\n",
       "      <td>False</td>\n",
       "      <td>False</td>\n",
       "    </tr>\n",
       "    <tr>\n",
       "      <th>2</th>\n",
       "      <td>False</td>\n",
       "      <td>False</td>\n",
       "      <td>False</td>\n",
       "      <td>False</td>\n",
       "      <td>True</td>\n",
       "    </tr>\n",
       "  </tbody>\n",
       "</table>\n",
       "</div>"
      ],
      "text/plain": [
       "   Cities  Population   Area  density    new\n",
       "0   False       False  False    False  False\n",
       "1   False       False  False    False  False\n",
       "2   False       False  False    False   True"
      ]
     },
     "execution_count": 93,
     "metadata": {},
     "output_type": "execute_result"
    }
   ],
   "source": [
    "cities_df.isnull()"
   ]
  },
  {
   "cell_type": "code",
   "execution_count": 94,
   "id": "b01d6624",
   "metadata": {},
   "outputs": [
    {
     "data": {
      "text/plain": [
       "Cities        0\n",
       "Population    0\n",
       "Area          0\n",
       "density       0\n",
       "new           1\n",
       "dtype: int64"
      ]
     },
     "execution_count": 94,
     "metadata": {},
     "output_type": "execute_result"
    }
   ],
   "source": [
    "cities_df.isnull().sum()"
   ]
  },
  {
   "cell_type": "markdown",
   "id": "87b7f616",
   "metadata": {},
   "source": [
    "### Applying Custom Functions"
   ]
  },
  {
   "cell_type": "code",
   "execution_count": 100,
   "id": "659fd2df",
   "metadata": {},
   "outputs": [],
   "source": [
    "#The following example passes a function and checks the value of each element in series and returns low, normal or High accordingly.\n",
    "\n",
    "def population_range(num): \n",
    "    if num < 1000000: \n",
    "        return \"Low\"\n",
    "    elif num >= 1000000 and num < 9999999999: \n",
    "        return \"Normal\"\n",
    "    else: \n",
    "        return \"High\""
   ]
  },
  {
   "cell_type": "code",
   "execution_count": 58,
   "id": "f4937739",
   "metadata": {},
   "outputs": [],
   "source": [
    "population = cities_df['Population']"
   ]
  },
  {
   "cell_type": "code",
   "execution_count": 59,
   "id": "5bacd1bf",
   "metadata": {},
   "outputs": [],
   "source": [
    "# passing function to apply and storing returned series in new_col\n",
    "\n",
    "new_col = population.apply(population_range)"
   ]
  },
  {
   "cell_type": "code",
   "execution_count": 60,
   "id": "87c13f5d",
   "metadata": {},
   "outputs": [],
   "source": [
    "cities_df['Population Category'] = new_col"
   ]
  },
  {
   "cell_type": "code",
   "execution_count": 61,
   "id": "1c27d1d1",
   "metadata": {},
   "outputs": [
    {
     "data": {
      "text/html": [
       "<div>\n",
       "<style scoped>\n",
       "    .dataframe tbody tr th:only-of-type {\n",
       "        vertical-align: middle;\n",
       "    }\n",
       "\n",
       "    .dataframe tbody tr th {\n",
       "        vertical-align: top;\n",
       "    }\n",
       "\n",
       "    .dataframe thead th {\n",
       "        text-align: right;\n",
       "    }\n",
       "</style>\n",
       "<table border=\"1\" class=\"dataframe\">\n",
       "  <thead>\n",
       "    <tr style=\"text-align: right;\">\n",
       "      <th></th>\n",
       "      <th>Cities</th>\n",
       "      <th>Population</th>\n",
       "      <th>Area</th>\n",
       "      <th>density</th>\n",
       "      <th>Population Category</th>\n",
       "    </tr>\n",
       "  </thead>\n",
       "  <tbody>\n",
       "    <tr>\n",
       "      <th>0</th>\n",
       "      <td>Karachi</td>\n",
       "      <td>12124124314</td>\n",
       "      <td>2131241241</td>\n",
       "      <td>5.688762</td>\n",
       "      <td>High</td>\n",
       "    </tr>\n",
       "    <tr>\n",
       "      <th>1</th>\n",
       "      <td>Islamabad</td>\n",
       "      <td>232143412</td>\n",
       "      <td>4532523</td>\n",
       "      <td>51.217261</td>\n",
       "      <td>Normal</td>\n",
       "    </tr>\n",
       "    <tr>\n",
       "      <th>2</th>\n",
       "      <td>Lahore</td>\n",
       "      <td>1321431241</td>\n",
       "      <td>214412312</td>\n",
       "      <td>6.163038</td>\n",
       "      <td>Normal</td>\n",
       "    </tr>\n",
       "  </tbody>\n",
       "</table>\n",
       "</div>"
      ],
      "text/plain": [
       "      Cities   Population        Area    density Population Category\n",
       "0    Karachi  12124124314  2131241241   5.688762                High\n",
       "1  Islamabad    232143412     4532523  51.217261              Normal\n",
       "2     Lahore   1321431241   214412312   6.163038              Normal"
      ]
     },
     "execution_count": 61,
     "metadata": {},
     "output_type": "execute_result"
    }
   ],
   "source": [
    "cities_df"
   ]
  }
 ],
 "metadata": {
  "kernelspec": {
   "display_name": "Python 3 (ipykernel)",
   "language": "python",
   "name": "python3"
  },
  "language_info": {
   "codemirror_mode": {
    "name": "ipython",
    "version": 3
   },
   "file_extension": ".py",
   "mimetype": "text/x-python",
   "name": "python",
   "nbconvert_exporter": "python",
   "pygments_lexer": "ipython3",
   "version": "3.8.11"
  }
 },
 "nbformat": 4,
 "nbformat_minor": 5
}
